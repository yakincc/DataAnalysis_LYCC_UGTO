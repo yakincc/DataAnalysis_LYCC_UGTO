{
 "cells": [
  {
   "cell_type": "code",
   "execution_count": 1,
   "metadata": {},
   "outputs": [
    {
     "name": "stdout",
     "output_type": "stream",
     "text": [
      "Los diferentes dominios en la lista de correos son: \n",
      " {'yopmail.com', 'hotmail.com mlem', 'licifug.ugto.mx', 'hotmail.com.mlemmmm', 'outlook.com', 'gmail.com', 'hotmail.com', 'ugto.mx'}\n",
      "[['veronicamc1223', 4], ['alvarezcu2019', 4], ['uridedomjua', 6], ['hernandeztj2019', 3], ['serart_98', 2], ['bgbg5530', 0], ['perritofaldero_33', 6], ['perezrj2019', 2], ['cd.rodriguezlicea', 7], ['pau', 2], ['lemusae2019', 4], ['gagruxeuwoiddi-1547', 7], ['yeucroudussudu-8941', 7], ['username1284', 4], ['cheels.08', 2], ['yael_baca', 4], ['a.escobedo', 5], ['e.martinezmiranda', 7], ['se.lopezlazaro', 6], ['ca.gonzalezcorona', 7], ['jimenezsa2018', 4], ['vm.gonzalezaguayo', 7]]\n"
     ]
    }
   ],
   "source": [
    "import pandas as pd\n",
    "import numpy as np\n",
    "import csv\n",
    "\n",
    "df = pd.read_excel('lista_correos.xlsx', names = [0,1,2,3])\n",
    "email_list = df[0].dropna().values.tolist()\n",
    "\n",
    "names_list = []\n",
    "domains_list = []\n",
    "for email in email_list:\n",
    "    split = email.split('@')\n",
    "    names_list.append(split[0].strip())\n",
    "    domains_list.append(split[1].strip())\n",
    "    \n",
    "print(f'Los diferentes dominios en la lista de correos son: \\n {set(domains_list)}')\n",
    "\n",
    "vowels_enumerate = []\n",
    "vowels_list = ['a', 'e', 'i', 'o', 'u']\n",
    "for name in names_list:\n",
    "    character_list = [*name]\n",
    "    vowels_counter = 0\n",
    "    for character in character_list:\n",
    "        if character in vowels_list:\n",
    "            vowels_counter += 1\n",
    "    \n",
    "    vowels_enumerate.append(vowels_counter)\n",
    "\n",
    "cols = ['Nombre de Usuario', 'Cantidad de Vocales'] \n",
    "rows = [[name, vowels_per_user] for name, vowels_per_user in zip(names_list, vowels_enumerate)]\n",
    "print(rows)\n",
    "\n",
    "with open(\"lista_correos_con_vocales.csv\", \"w\", newline = '') as csvfile: \n",
    "    csvwriter = csv.writer(csvfile) \n",
    "    csvwriter.writerow(cols) \n",
    "    csvwriter.writerows(rows)\n",
    "            \n",
    "    "
   ]
  }
 ],
 "metadata": {
  "kernelspec": {
   "display_name": "Python 3",
   "language": "python",
   "name": "python3"
  },
  "language_info": {
   "codemirror_mode": {
    "name": "ipython",
    "version": 3
   },
   "file_extension": ".py",
   "mimetype": "text/x-python",
   "name": "python",
   "nbconvert_exporter": "python",
   "pygments_lexer": "ipython3",
   "version": "3.10.9 (tags/v3.10.9:1dd9be6, Dec  6 2022, 20:01:21) [MSC v.1934 64 bit (AMD64)]"
  },
  "orig_nbformat": 4,
  "vscode": {
   "interpreter": {
    "hash": "8a7708f21e06903b35afb5305432a6ab2ecb1551aa7087be1c09b71e9e7b077c"
   }
  }
 },
 "nbformat": 4,
 "nbformat_minor": 2
}
