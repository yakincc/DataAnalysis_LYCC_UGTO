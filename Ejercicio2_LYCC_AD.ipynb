{
 "cells": [
  {
   "cell_type": "code",
   "execution_count": 2,
   "metadata": {},
   "outputs": [
    {
     "name": "stdout",
     "output_type": "stream",
     "text": [
      "En el texto hay 4 párrafos, 176 palabras de las cuales 103 son palabras únicas y 1148 caracteres de los cuales 40 son caracteres únicos\n"
     ]
    }
   ],
   "source": [
    "import requests\n",
    "import string\n",
    " \n",
    "def import_file(url):\n",
    "    file = requests.get(url)\n",
    "    file_content = file.text\n",
    "    return file_content\n",
    "\n",
    "def split_paragraphs(file_content):\n",
    "    paragraphs = file_content.split('\\n')\n",
    "    paragraphs = [paragraph for paragraph in paragraphs if paragraph != '']\n",
    "    return paragraphs\n",
    "\n",
    "def split_words(file_content):\n",
    "    paragraphs = split_paragraphs(file_content)\n",
    "    paragraphs_by_words = [paragraph.split(' ') for paragraph in paragraphs]\n",
    "    words = [word for paragraph in paragraphs_by_words for word in paragraph]\n",
    "    return words\n",
    "\n",
    "def split_chars(file_content):\n",
    "    chars = [*file_content]\n",
    "    chars = [char for char in chars if char != '\\n']\n",
    "    return chars\n",
    "\n",
    "def count_paragraphs(file_content):\n",
    "    paragraphs = split_paragraphs(file_content)\n",
    "    return len(paragraphs)\n",
    "    \n",
    "def count_words(file_content):\n",
    "    words = split_words(file_content)\n",
    "    return len(words)\n",
    "    \n",
    "def count_chars(file_content):\n",
    "    chars = split_chars(file_content)\n",
    "    return len(chars)\n",
    "      \n",
    "def count_unique_chars(file_content):\n",
    "    chars = split_chars(file_content)\n",
    "    unique_chars = set(chars)\n",
    "    return len(unique_chars)\n",
    "\n",
    "def count_unique_words(file_content):\n",
    "    words = split_words(file_content)\n",
    "    words = [word.translate(str.maketrans('', '', string.punctuation)) for word in words]\n",
    "    unique_words = set(words)\n",
    "    return len(unique_words)\n",
    "    \n",
    "url = r'https://raw.githubusercontent.com/alrakomala/DataScienceDCI/main/basicos_python/ciencia_de_datos_wikipedia.txt'\n",
    "file = import_file(url)\n",
    "print(f'En el texto hay {count_paragraphs(file)} párrafos, {count_words(file)} palabras de las cuales {count_unique_words(file)} son palabras únicas y {count_chars(file)} caracteres de los cuales {count_unique_chars(file)} son caracteres únicos')\n"
   ]
  }
 ],
 "metadata": {
  "kernelspec": {
   "display_name": "Python 3",
   "language": "python",
   "name": "python3"
  },
  "language_info": {
   "codemirror_mode": {
    "name": "ipython",
    "version": 3
   },
   "file_extension": ".py",
   "mimetype": "text/x-python",
   "name": "python",
   "nbconvert_exporter": "python",
   "pygments_lexer": "ipython3",
   "version": "3.10.10"
  },
  "orig_nbformat": 4,
  "vscode": {
   "interpreter": {
    "hash": "8a7708f21e06903b35afb5305432a6ab2ecb1551aa7087be1c09b71e9e7b077c"
   }
  }
 },
 "nbformat": 4,
 "nbformat_minor": 2
}
