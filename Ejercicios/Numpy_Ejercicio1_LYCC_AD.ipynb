{
 "cells": [
  {
   "attachments": {},
   "cell_type": "markdown",
   "metadata": {},
   "source": [
    "**Ejercicio 1**: Hacer una matriz de 8 x 8 con numeros enteros consecutivos empezando en 1. Llenado por filas (1,2,3,4...)."
   ]
  },
  {
   "cell_type": "code",
   "execution_count": 75,
   "metadata": {},
   "outputs": [
    {
     "name": "stdout",
     "output_type": "stream",
     "text": [
      "[[ 1  2  3  4  5  6  7  8]\n",
      " [ 9 10 11 12 13 14 15 16]\n",
      " [17 18 19 20 21 22 23 24]\n",
      " [25 26 27 28 29 30 31 32]\n",
      " [33 34 35 36 37 38 39 40]\n",
      " [41 42 43 44 45 46 47 48]\n",
      " [49 50 51 52 53 54 55 56]\n",
      " [57 58 59 60 61 62 63 64]]\n"
     ]
    }
   ],
   "source": [
    "import numpy as np\n",
    "\n",
    "matrix = np.arange(1,65,1)\n",
    "matrix = matrix.reshape(8,8)\n",
    "print(matrix)"
   ]
  },
  {
   "attachments": {},
   "cell_type": "markdown",
   "metadata": {},
   "source": [
    "**Ejercicio 2**:\n",
    "\n",
    "i. Hacer una matriz de 8 x 8 con numeros enteros consecutivos empezando en 1. Llenado por columnas.\n",
    "\n",
    "ii. reemplazar los elementos que tengan al menos un 3 por -99."
   ]
  },
  {
   "cell_type": "code",
   "execution_count": 114,
   "metadata": {},
   "outputs": [
    {
     "name": "stdout",
     "output_type": "stream",
     "text": [
      "[[  1   9  17  25 -99  41  49  57]\n",
      " [  2  10  18  26 -99  42  50  58]\n",
      " [-99  11  19  27 -99 -99  51  59]\n",
      " [  4  12  20  28 -99  44  52  60]\n",
      " [  5 -99  21  29 -99  45 -99  61]\n",
      " [  6  14  22 -99 -99  46  54  62]\n",
      " [  7  15 -99 -99 -99  47  55 -99]\n",
      " [  8  16  24 -99  40  48  56  64]]\n"
     ]
    }
   ],
   "source": [
    "import numpy as np\n",
    "\n",
    "arr = np.arange(1,65,1)\n",
    "matrix = arr.reshape(8,8).T\n",
    "arr = np.char.mod('%d', arr)\n",
    "mask = ['3' in number for number in arr]\n",
    "mask = np.reshape(mask, (8,8)).T\n",
    "modified_matrix = np.ma.masked_array(matrix, mask)\n",
    "print(modified_matrix.filled(-99))\n"
   ]
  }
 ],
 "metadata": {
  "kernelspec": {
   "display_name": "Python 3",
   "language": "python",
   "name": "python3"
  },
  "language_info": {
   "codemirror_mode": {
    "name": "ipython",
    "version": 3
   },
   "file_extension": ".py",
   "mimetype": "text/x-python",
   "name": "python",
   "nbconvert_exporter": "python",
   "pygments_lexer": "ipython3",
   "version": "3.10.10"
  },
  "orig_nbformat": 4,
  "vscode": {
   "interpreter": {
    "hash": "8a7708f21e06903b35afb5305432a6ab2ecb1551aa7087be1c09b71e9e7b077c"
   }
  }
 },
 "nbformat": 4,
 "nbformat_minor": 2
}
